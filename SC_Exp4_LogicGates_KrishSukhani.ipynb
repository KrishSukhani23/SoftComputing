{
  "nbformat": 4,
  "nbformat_minor": 0,
  "metadata": {
    "colab": {
      "name": "SC_Exp4_LogicGates_KrishSukhani.ipynb",
      "provenance": []
    },
    "kernelspec": {
      "name": "python3",
      "display_name": "Python 3"
    },
    "language_info": {
      "name": "python"
    }
  },
  "cells": [
    {
      "cell_type": "markdown",
      "metadata": {
        "id": "ZwlTDUx7wBNn"
      },
      "source": [
        "\n",
        "#    Name: Krish Sukhani\n",
        "#    UID: 2018140059\n",
        "#    Batch: D\n",
        "#    Branch: IT\n",
        "\n"
      ]
    },
    {
      "cell_type": "code",
      "metadata": {
        "id": "NcH3YqFstCYT"
      },
      "source": [
        "import numpy as np\n",
        "class Perceptron(object):\n",
        "    def __init__(self, n, c=0.01):\n",
        "        self.c = c\n",
        "        self.weights = np.zeros(n+1)\n",
        " \n",
        "    def unipolar_train(self, training_inputs, labels):\n",
        "        iter=0\n",
        " \n",
        "        while(True):\n",
        "            iter+=1\n",
        "            pred = []\n",
        "            for inputs, label in zip(training_inputs, labels):\n",
        "                prediction = self.unipolar_predict(inputs)\n",
        "                pred.append(prediction)\n",
        "                self.weights[1:] += self.c*(label-prediction)*inputs\n",
        "                self.weights[0] += self.c*(label-prediction)\n",
        " \n",
        "            print(self.weights)\n",
        "            if(labels==pred).all():\n",
        "                print(\"Epochs : {}\".format(iter))\n",
        "                break\n",
        " \n",
        "    def unipolar_predict(self, inputs):\n",
        "        summation = np.dot(inputs, self.weights[1:]) + self.weights[0]\n",
        "        #Unipolar Activation\n",
        "        if summation>0:\n",
        "            activation =1\n",
        "        else:\n",
        "            activation=0\n",
        "        return activation"
      ],
      "execution_count": 1,
      "outputs": []
    },
    {
      "cell_type": "code",
      "metadata": {
        "colab": {
          "base_uri": "https://localhost:8080/"
        },
        "id": "_tm9gRIhuwVN",
        "outputId": "8405ae8e-f652-4879-f6b0-86f6289094dd"
      },
      "source": [
        "print(\"Unipolar - AND Gate\")\n",
        "x_train = np.array([[1,1], [1,0], [0,1], [0,0]])\n",
        "perceptron = Perceptron(x_train.shape[1])\n",
        "y_train = np.array([1,0,0,0])\n",
        "perceptron.unipolar_train(x_train,y_train)\n",
        " \n",
        "AND_prediction = []\n",
        "for x in range(len(x_train)):\n",
        "    AND_prediction.append(perceptron.unipolar_predict(x_train[x]))\n",
        "print(\"AND Input : \", x_train)\n",
        "print(\"Unipolar AND - Result : \", AND_prediction)"
      ],
      "execution_count": 2,
      "outputs": [
        {
          "output_type": "stream",
          "name": "stdout",
          "text": [
            "Unipolar - AND Gate\n",
            "[-0.01  0.    0.  ]\n",
            "[-0.01  0.    0.01]\n",
            "[-0.02  0.    0.01]\n",
            "[-0.02  0.01  0.01]\n",
            "[-0.02  0.01  0.02]\n",
            "[-0.02  0.01  0.02]\n",
            "Epochs : 6\n",
            "AND Input :  [[1 1]\n",
            " [1 0]\n",
            " [0 1]\n",
            " [0 0]]\n",
            "Unipolar AND - Result :  [1, 0, 0, 0]\n"
          ]
        }
      ]
    },
    {
      "cell_type": "code",
      "metadata": {
        "colab": {
          "base_uri": "https://localhost:8080/"
        },
        "id": "cD-JBfJJuwRq",
        "outputId": "c06c119b-71ec-434e-e477-a3ea4c95a588"
      },
      "source": [
        "print(\"Unipolar - OR Gate\")\n",
        "x_train = np.array([[1,1], [1,0], [0,1], [0,0]])\n",
        "perceptron = Perceptron(x_train.shape[1])\n",
        "y_train = np.array([1,1,1,0])\n",
        "perceptron.unipolar_train(x_train,y_train)\n",
        " \n",
        "OR_prediction = []\n",
        "for x in range(len(x_train)):\n",
        "    OR_prediction.append(perceptron.unipolar_predict(x_train[x]))\n",
        "print(\"OR Input : \", x_train)\n",
        "print(\"Unipolar OR - Result : \", OR_prediction)"
      ],
      "execution_count": 3,
      "outputs": [
        {
          "output_type": "stream",
          "name": "stdout",
          "text": [
            "Unipolar - OR Gate\n",
            "[0.   0.01 0.01]\n",
            "[0.   0.01 0.01]\n",
            "Epochs : 2\n",
            "OR Input :  [[1 1]\n",
            " [1 0]\n",
            " [0 1]\n",
            " [0 0]]\n",
            "Unipolar OR - Result :  [1, 1, 1, 0]\n"
          ]
        }
      ]
    },
    {
      "cell_type": "code",
      "metadata": {
        "colab": {
          "base_uri": "https://localhost:8080/"
        },
        "id": "SzL47C_luwPQ",
        "outputId": "7bb87e6f-ec13-44e1-ad94-b08133bfb98a"
      },
      "source": [
        "print(\"Unipolar - NOT Gate\")\n",
        "x_train = np.array([[1], [0]])\n",
        "y_train = np.array([0, 1])\n",
        "perceptron = Perceptron(x_train.shape[1])\n",
        "perceptron.unipolar_train(x_train, y_train)\n",
        " \n",
        "NOT_prediction = []\n",
        "for x in range(len(x_train)):\n",
        "    NOT_prediction.append(perceptron.unipolar_predict(x_train[x]))\n",
        "print(\"NOT Input : \", x_train)\n",
        "print(\"Unipolar NOT - Result : \", NOT_prediction)"
      ],
      "execution_count": 4,
      "outputs": [
        {
          "output_type": "stream",
          "name": "stdout",
          "text": [
            "Unipolar - NOT Gate\n",
            "[0.01 0.  ]\n",
            "[ 0.01 -0.01]\n",
            "[ 0.01 -0.01]\n",
            "Epochs : 3\n",
            "NOT Input :  [[1]\n",
            " [0]]\n",
            "Unipolar NOT - Result :  [0, 1]\n"
          ]
        }
      ]
    },
    {
      "cell_type": "code",
      "metadata": {
        "id": "RCcukIU-uwMa"
      },
      "source": [
        "import numpy as np\n",
        "class Perceptron(object):\n",
        "    def __init__(self, n, c=0.01):\n",
        "        self.c = c\n",
        "        self.weights = np.zeros(n+1)\n",
        " \n",
        "    def bipolar_train(self, training_inputs, labels):\n",
        "        iter=0\n",
        " \n",
        "        while(True):\n",
        "            iter+=1\n",
        "            pred = []\n",
        "            for inputs, label in zip(training_inputs, labels):\n",
        "                prediction = self.bipolar_predict(inputs)\n",
        "                pred.append(prediction)\n",
        "                self.weights[1:] += self.c*(label-prediction)*inputs\n",
        "                self.weights[0] += self.c*(label-prediction)\n",
        " \n",
        "            print(self.weights)\n",
        "            if(labels==pred).all():\n",
        "                print(\"Epochs : {}\".format(iter))\n",
        "                break\n",
        " \n",
        "    def bipolar_predict(self, inputs):\n",
        "        summation = np.dot(inputs, self.weights[1:]) + self.weights[0]\n",
        "        #Biipolar Activation\n",
        "        if summation>0:\n",
        "            activation =1\n",
        "        else:\n",
        "            activation = -1\n",
        "        return activation"
      ],
      "execution_count": 5,
      "outputs": []
    },
    {
      "cell_type": "code",
      "metadata": {
        "colab": {
          "base_uri": "https://localhost:8080/"
        },
        "id": "NN0XcUcMuwLA",
        "outputId": "3526b08f-68ca-445f-c508-a6992efd9114"
      },
      "source": [
        "print(\"Bipolar - AND Gate\")\n",
        " \n",
        "x_train = np.array([[1,1], [1,-1], [-1,1], [-1,-1]])\n",
        "perceptron = Perceptron(x_train.shape[1])\n",
        "y_train = np.array([1,-1,-1,-1])\n",
        "perceptron.bipolar_train(x_train,y_train)\n",
        " \n",
        "AND_prediction = []\n",
        "for x in range(len(x_train)):\n",
        "    AND_prediction.append(perceptron.bipolar_predict(x_train[x]))\n",
        "print(\"AND Input : \", x_train)\n",
        "print(\"Bipolar AND - Result : \", AND_prediction)\n"
      ],
      "execution_count": 6,
      "outputs": [
        {
          "output_type": "stream",
          "name": "stdout",
          "text": [
            "Bipolar - AND Gate\n",
            "[-0.02  0.02  0.02]\n",
            "[-0.02  0.02  0.02]\n",
            "Epochs : 2\n",
            "AND Input :  [[ 1  1]\n",
            " [ 1 -1]\n",
            " [-1  1]\n",
            " [-1 -1]]\n",
            "Bipolar AND - Result :  [1, -1, -1, -1]\n"
          ]
        }
      ]
    },
    {
      "cell_type": "code",
      "metadata": {
        "colab": {
          "base_uri": "https://localhost:8080/"
        },
        "id": "goJDaW76uwIP",
        "outputId": "5cade03c-7f4c-4f36-907d-6b60992ca192"
      },
      "source": [
        "print(\"Bipolar - OR Gate\")\n",
        "x_train = np.array([[1,1], [1,-1], [-1,1], [-1,-1]])\n",
        "perceptron = Perceptron(x_train.shape[1])\n",
        "y_train = np.array([1,1,1,-1])\n",
        "perceptron.bipolar_train(x_train,y_train)\n",
        " \n",
        "OR_prediction = []\n",
        "for x in range(len(x_train)):\n",
        "    OR_prediction.append(perceptron.bipolar_predict(x_train[x]))\n",
        "print(\"OR Input : \", x_train)\n",
        "print(\"Bipolar OR - Result : \", OR_prediction)"
      ],
      "execution_count": 7,
      "outputs": [
        {
          "output_type": "stream",
          "name": "stdout",
          "text": [
            "Bipolar - OR Gate\n",
            "[0.02 0.02 0.02]\n",
            "[0.02 0.02 0.02]\n",
            "Epochs : 2\n",
            "OR Input :  [[ 1  1]\n",
            " [ 1 -1]\n",
            " [-1  1]\n",
            " [-1 -1]]\n",
            "Bipolar OR - Result :  [1, 1, 1, -1]\n"
          ]
        }
      ]
    },
    {
      "cell_type": "code",
      "metadata": {
        "colab": {
          "base_uri": "https://localhost:8080/"
        },
        "id": "Kg8IWDREuwFl",
        "outputId": "47f9eafb-7f8a-4dd6-c97b-5edf31f0d1c8"
      },
      "source": [
        "print(\"Bipolar - NOT Gate\")\n",
        "x_train = np.array([[1], [-1]])\n",
        "y_train = np.array([-1, 1])\n",
        "perceptron = Perceptron(x_train.shape[1])\n",
        "perceptron.bipolar_train(x_train, y_train)\n",
        " \n",
        "NOT_prediction = []\n",
        "for x in range(len(x_train)):\n",
        "    NOT_prediction.append(perceptron.bipolar_predict(x_train[x]))\n",
        "print(\"NOT Input : \", x_train)\n",
        "print(\"Bipolar NOT - Result : \", NOT_prediction)"
      ],
      "execution_count": 8,
      "outputs": [
        {
          "output_type": "stream",
          "name": "stdout",
          "text": [
            "Bipolar - NOT Gate\n",
            "[ 0.02 -0.02]\n",
            "[ 0.02 -0.02]\n",
            "Epochs : 2\n",
            "NOT Input :  [[ 1]\n",
            " [-1]]\n",
            "Bipolar NOT - Result :  [-1, 1]\n"
          ]
        }
      ]
    },
    {
      "cell_type": "markdown",
      "metadata": {
        "id": "TnqnTL6DwlN5"
      },
      "source": [
        "##Conclusion : \n",
        "###The  difference between the two activation functions  \n",
        "### -> The threshold value that we use \n",
        "### Unipolar -- its 1 and 0\n",
        "### Bipolar its 1 and -1\n",
        "### -> A single neuron can be used to train and implement the AND, OR and NOT logic gates successfully.\n",
        "### ->More complex logical gates will require more neurons or more layers of single neurons.\n"
      ]
    }
  ]
}